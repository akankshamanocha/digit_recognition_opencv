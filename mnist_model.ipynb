{
 "cells": [
  {
   "cell_type": "code",
   "execution_count": 39,
   "metadata": {},
   "outputs": [],
   "source": [
    "import numpy as np\n",
    "from keras.models import load_model\n",
    "import cv2\n",
    "\n",
    "model = load_model('mnist_opencv.h5')\n",
    "\n",
    "canvas = np.ones((600,600),dtype='uint8')*255\n",
    "canvas[100:500,100:500]=0\n",
    "\n",
    "start_point=None\n",
    "end_point=None\n",
    "is_drawing=False\n",
    "\n",
    "def draw_line(img,start_at,end_at):\n",
    "    cv2.line(img,start_at,end_at,255,20)\n",
    "\n",
    "    \n",
    "def mouse_events(event,x,y,flags,params):\n",
    "    global start_point\n",
    "    global end_point\n",
    "    global is_drawing\n",
    "    \n",
    "    if event == cv2.EVENT_LBUTTONDOWN:\n",
    "        is_drawing = True\n",
    "        start_point= (x,y)\n",
    "    elif event == cv2.EVENT_MOUSEMOVE:\n",
    "        if is_drawing:\n",
    "            end_point = (x,y)\n",
    "            draw_line(canvas,start_point,end_point)\n",
    "            start_point=end_point\n",
    "            \n",
    "    elif event == cv2.EVENT_LBUTTONUP:\n",
    "        is_drawing = False\n",
    "        image = canvas[100:500,100:500]\n",
    "        input = cv2.resize(image, (28,28)).reshape((28,28,1)).astype('float32')\n",
    "        result = str(model.predict_classes(np.array([input])))\n",
    "        cv2.putText(image,'PREDICTED:',(30,50),cv2.FONT_HERSHEY_SIMPLEX,0.6,(255,255,255),2)\n",
    "        cv2.putText(image,result,(135,50),cv2.FONT_HERSHEY_SIMPLEX,0.6,(255,255,255),2)\n",
    "    \n",
    "cv2.namedWindow(\"Test Canvas\")\n",
    "cv2.setMouseCallback(\"Test Canvas\",mouse_events)\n",
    "\n",
    "\n",
    "while(True):\n",
    "    cv2.imshow(\"Test Canvas\",canvas)\n",
    "    key = cv2.waitKey(1) & 0xFF\n",
    "    if key == ord('q'):\n",
    "        break\n",
    "    elif key == ord('s'):\n",
    "        is_drawing = True\n",
    "    elif key == ord('c'):\n",
    "        canvas[100:500,100:500] = 0\n",
    "    \n",
    "        \n",
    "        \n",
    "cv2.destroyAllWindows()        "
   ]
  },
  {
   "cell_type": "code",
   "execution_count": null,
   "metadata": {},
   "outputs": [],
   "source": []
  }
 ],
 "metadata": {
  "kernelspec": {
   "display_name": "Python 3",
   "language": "python",
   "name": "python3"
  },
  "language_info": {
   "codemirror_mode": {
    "name": "ipython",
    "version": 3
   },
   "file_extension": ".py",
   "mimetype": "text/x-python",
   "name": "python",
   "nbconvert_exporter": "python",
   "pygments_lexer": "ipython3",
   "version": "3.6.6"
  }
 },
 "nbformat": 4,
 "nbformat_minor": 2
}
