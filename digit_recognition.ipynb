{
 "cells": [
  {
   "cell_type": "code",
   "execution_count": 13,
   "metadata": {},
   "outputs": [],
   "source": [
    "import cv2\n",
    "import keras\n",
    "from keras.datasets import mnist\n",
    "from keras.models import Sequential\n",
    "from keras.layers import Dense,Dropout,Conv2D,Flatten,MaxPooling2D\n",
    "from keras.callbacks import EarlyStopping\n",
    "from keras.utils import to_categorical"
   ]
  },
  {
   "cell_type": "code",
   "execution_count": 14,
   "metadata": {},
   "outputs": [],
   "source": [
    "(X_train,y_train),(X_test,y_test)=mnist.load_data()"
   ]
  },
  {
   "cell_type": "code",
   "execution_count": 15,
   "metadata": {},
   "outputs": [
    {
     "name": "stdout",
     "output_type": "stream",
     "text": [
      "Train on 60000 samples, validate on 10000 samples\n",
      "Epoch 1/10\n",
      "60000/60000 [==============================] - 154s 3ms/step - loss: 7.5435 - acc: 0.5251 - val_loss: 4.1561 - val_acc: 0.7373\n",
      "Epoch 2/10\n",
      "60000/60000 [==============================] - 148s 2ms/step - loss: 3.9637 - acc: 0.7462 - val_loss: 2.2650 - val_acc: 0.8554\n",
      "Epoch 3/10\n",
      "60000/60000 [==============================] - 149s 2ms/step - loss: 2.5185 - acc: 0.8332 - val_loss: 0.7746 - val_acc: 0.9462\n",
      "Epoch 4/10\n",
      "60000/60000 [==============================] - 151s 3ms/step - loss: 1.4328 - acc: 0.8989 - val_loss: 0.6246 - val_acc: 0.9549\n",
      "Epoch 5/10\n",
      "60000/60000 [==============================] - 159s 3ms/step - loss: 1.0646 - acc: 0.9126 - val_loss: 0.3898 - val_acc: 0.9607\n",
      "Epoch 6/10\n",
      "60000/60000 [==============================] - 170s 3ms/step - loss: 0.6626 - acc: 0.9039 - val_loss: 0.2455 - val_acc: 0.9530\n",
      "Epoch 7/10\n",
      "60000/60000 [==============================] - 180s 3ms/step - loss: 0.4973 - acc: 0.8983 - val_loss: 0.2012 - val_acc: 0.9564\n",
      "Epoch 8/10\n",
      "60000/60000 [==============================] - 180s 3ms/step - loss: 0.4050 - acc: 0.9087 - val_loss: 0.1812 - val_acc: 0.9632\n",
      "Epoch 9/10\n",
      "60000/60000 [==============================] - 184s 3ms/step - loss: 0.3485 - acc: 0.9184 - val_loss: 0.1402 - val_acc: 0.9666\n",
      "Epoch 10/10\n",
      "60000/60000 [==============================] - 183s 3ms/step - loss: 0.3046 - acc: 0.9241 - val_loss: 0.1235 - val_acc: 0.9712\n",
      "Test loss: 0.12345133964025753\n",
      "Test accuracy: 0.9712\n"
     ]
    }
   ],
   "source": [
    "\n",
    "import numpy as np\n",
    "training_images=X_train.reshape((60000,28,28,1)).astype('float32')\n",
    "training_targets=to_categorical(y_train) \n",
    "\n",
    "test_images=X_test.reshape((10000,28,28,1)).astype('float32')\n",
    "test_targets=to_categorical(y_test)\n",
    "    \n",
    "num_classes=10\n",
    "    \n",
    "    \n",
    "model= Sequential()\n",
    "model.add(Conv2D(32,kernel_size=(3,3),activation='relu',input_shape=(28,28,1)))\n",
    "model.add(MaxPooling2D(pool_size=(2,2)))\n",
    "model.add(Dropout(0.5))\n",
    "model.add(Flatten())\n",
    "model.add(Dense(128,activation='relu'))\n",
    "model.add(Dropout(0.5))\n",
    "model.add(Dense(num_classes,activation='softmax'))\n",
    "    \n",
    "model.compile(loss='categorical_crossentropy' , optimizer='adam' , metrics=['accuracy'])\n",
    "    \n",
    "    \n",
    "model.fit(training_images,training_targets,batch_size=128,epochs=10,verbose=1,validation_data=(test_images,test_targets))\n",
    "    \n",
    "score = model.evaluate(test_images, test_targets,verbose=0)\n",
    "print('Test loss:',score[0])\n",
    "print('Test accuracy:',score[1])\n",
    "    \n",
    "    \n",
    "\n",
    "model.save('mnist_opencv.h5')"
   ]
  },
  {
   "cell_type": "code",
   "execution_count": null,
   "metadata": {},
   "outputs": [],
   "source": []
  }
 ],
 "metadata": {
  "kernelspec": {
   "display_name": "Python 3",
   "language": "python",
   "name": "python3"
  },
  "language_info": {
   "codemirror_mode": {
    "name": "ipython",
    "version": 3
   },
   "file_extension": ".py",
   "mimetype": "text/x-python",
   "name": "python",
   "nbconvert_exporter": "python",
   "pygments_lexer": "ipython3",
   "version": "3.6.6"
  }
 },
 "nbformat": 4,
 "nbformat_minor": 2
}
